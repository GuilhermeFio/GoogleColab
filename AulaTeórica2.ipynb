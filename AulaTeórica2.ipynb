{
  "nbformat": 4,
  "nbformat_minor": 0,
  "metadata": {
    "colab": {
      "provenance": [],
      "toc_visible": true,
      "authorship_tag": "ABX9TyO+Dv66IhXLE12hcJaENr4B",
      "include_colab_link": true
    },
    "kernelspec": {
      "name": "python3",
      "display_name": "Python 3"
    },
    "language_info": {
      "name": "python"
    }
  },
  "cells": [
    {
      "cell_type": "markdown",
      "metadata": {
        "id": "view-in-github",
        "colab_type": "text"
      },
      "source": [
        "<a href=\"https://colab.research.google.com/github/GuilhermeFio/GoogleColab/blob/main/AulaTe%C3%B3rica2.ipynb\" target=\"_parent\"><img src=\"https://colab.research.google.com/assets/colab-badge.svg\" alt=\"Open In Colab\"/></a>"
      ]
    },
    {
      "cell_type": "markdown",
      "source": [
        "# Primeiro programa"
      ],
      "metadata": {
        "id": "ciPGtdY-aYkl"
      }
    },
    {
      "cell_type": "code",
      "execution_count": 1,
      "metadata": {
        "colab": {
          "base_uri": "https://localhost:8080/"
        },
        "id": "40iktid3XEmB",
        "outputId": "fc152deb-2414-453e-92e3-584e5474913e"
      },
      "outputs": [
        {
          "output_type": "stream",
          "name": "stdout",
          "text": [
            "Olá, mundo!\n"
          ]
        }
      ],
      "source": [
        "print (\"Olá, mundo!\")"
      ]
    },
    {
      "cell_type": "markdown",
      "source": [
        "# Concatenação"
      ],
      "metadata": {
        "id": "MMtaz5BWfCSC"
      }
    },
    {
      "cell_type": "code",
      "source": [
        "print(\"10\" + \"3\")\n",
        "print(\"10\",\"3\")"
      ],
      "metadata": {
        "colab": {
          "base_uri": "https://localhost:8080/"
        },
        "id": "VG7aGXD9fFAe",
        "outputId": "8e483a02-c081-4d51-929a-85db97416ddc"
      },
      "execution_count": 3,
      "outputs": [
        {
          "output_type": "stream",
          "name": "stdout",
          "text": [
            "103\n",
            "10 3\n"
          ]
        }
      ]
    },
    {
      "cell_type": "markdown",
      "source": [
        "# Concatenar strings e números"
      ],
      "metadata": {
        "id": "7btbpRzgfa-2"
      }
    },
    {
      "cell_type": "code",
      "source": [
        "print(\"O resultado de 10 + 3 é:\", 10 + 3)"
      ],
      "metadata": {
        "colab": {
          "base_uri": "https://localhost:8080/"
        },
        "id": "dIFawNHSfe22",
        "outputId": "3a324595-6677-4152-8085-27ae86419c5c"
      },
      "execution_count": 5,
      "outputs": [
        {
          "output_type": "stream",
          "name": "stdout",
          "text": [
            "O resultado de 10 + 3 é: 13\n"
          ]
        }
      ]
    },
    {
      "cell_type": "markdown",
      "source": [
        "# Atribuição"
      ],
      "metadata": {
        "id": "1AVMD0kR0tMe"
      }
    },
    {
      "cell_type": "code",
      "source": [
        "# '=' Simbolo de atribuição\n",
        "\n",
        "Nota = 8.5\n",
        "Disciplina = \"Programação\"\n",
        "\n",
        "print(Nota)\n",
        "print(Disciplina)\n"
      ],
      "metadata": {
        "colab": {
          "base_uri": "https://localhost:8080/"
        },
        "id": "q68O3gJh010t",
        "outputId": "0da65d0f-5a88-47a7-9860-d956d14cb194"
      },
      "execution_count": 10,
      "outputs": [
        {
          "output_type": "stream",
          "name": "stdout",
          "text": [
            "8.5\n",
            "Programação\n"
          ]
        }
      ]
    },
    {
      "cell_type": "markdown",
      "source": [
        "# Variáveis numéricas"
      ],
      "metadata": {
        "id": "VnlTokKf1GZ1"
      }
    },
    {
      "cell_type": "markdown",
      "source": [
        "Variáveis numéricas\n",
        "\n",
        "Inteiro (int) - números sem casa decimais     Ponto flutuante (float) - números decima"
      ],
      "metadata": {
        "id": "YZpAYtIM1KdN"
      }
    },
    {
      "cell_type": "markdown",
      "source": [
        "# Mapeamento"
      ],
      "metadata": {
        "id": "82hbdNHu1uMG"
      }
    },
    {
      "cell_type": "code",
      "source": [
        "texto = \"Logica\"\n",
        "\n",
        "print(texto)\n",
        "#Logica\n",
        "\n",
        "print(texto[0])\n",
        "#L\n",
        "\n",
        "print(texto[3])\n",
        "#i\n"
      ],
      "metadata": {
        "colab": {
          "base_uri": "https://localhost:8080/"
        },
        "id": "MNWz7x6N11dN",
        "outputId": "16cc9434-9e3a-4391-95f3-fc33b632bfa1"
      },
      "execution_count": 11,
      "outputs": [
        {
          "output_type": "stream",
          "name": "stdout",
          "text": [
            "Logica\n",
            "L\n",
            "i\n"
          ]
        }
      ]
    },
    {
      "cell_type": "markdown",
      "source": [
        "# Manipulações com strings"
      ],
      "metadata": {
        "id": "eNMuxxLF2D2F"
      }
    },
    {
      "cell_type": "code",
      "source": [
        "      nota = 7.5\n",
        "      s1 = \"Você tirou %f na disciplina Programação\" % nota\n",
        "      print(s1)\n",
        "\n",
        "      nota2 = 7.8\n",
        "      s2 = \"Você tirou %.2f na disciplina Programação\" % nota2\n",
        "      print(s2)     #%.2f limita as casas decimais\n",
        "\n",
        "      nota3 = 8.1\n",
        "      disciplina3 = \"programação\"\n",
        "      s3 = \"Você tirou %.2f na disciplina %s\" % (nota3, disciplina3)\n",
        "      print(s3)\n",
        "\n",
        "      nota4 = 6.7\n",
        "      disciplina4 = \"programação\"\n",
        "      s4 = \"você tirou {} na disciplina {}\" .format(nota4, disciplina4)\n",
        "      print(s4)      #composição moderna\n",
        "\n",
        "      nota5 = 4.7\n",
        "      disciplina5 = \"programação\"\n",
        "      s5 = f\"você tirou {nota5} na disciplina {disciplina5}\"\n",
        "      print(s5)    #modelo f-string\n",
        "\n"
      ],
      "metadata": {
        "colab": {
          "base_uri": "https://localhost:8080/"
        },
        "id": "ElGwKpT52No0",
        "outputId": "50d21aa8-a374-4f86-baaf-d904d50bf705"
      },
      "execution_count": 16,
      "outputs": [
        {
          "output_type": "stream",
          "name": "stdout",
          "text": [
            "Você tirou 7.500000 na disciplina Programação\n",
            "Você tirou 7.80 na disciplina Programação\n",
            "Você tirou 8.10 na disciplina programação\n",
            "você tirou 6.7 na disciplina programação\n",
            "você tirou 4.7 na disciplina programação\n"
          ]
        }
      ]
    },
    {
      "cell_type": "markdown",
      "source": [
        "# Fatiamento de string"
      ],
      "metadata": {
        "id": "_I3pAhUl2br-"
      }
    },
    {
      "cell_type": "code",
      "source": [
        "      s1 = \"Lógica de programação e Algoritmos\"\n",
        "      print(s1[0:6])    #irá mostrar apenas \"Logica\", pois o print foi determinado a mostrar os indices 0 à 5, o que corresponde toda a palavra.  OBS: Python sempre pede um indice a mais no final, por isso o número 6\n",
        "\n",
        "      s1 = \"Lógica de programação e Algoritmos\"\n",
        "      print(s1[24: ])    #pega à partir do indice 24 e vai até o final.  [ : ]  pega tudo\n",
        "\n"
      ],
      "metadata": {
        "colab": {
          "base_uri": "https://localhost:8080/"
        },
        "id": "k7EGEUhb2fRs",
        "outputId": "6b5552b5-2ed8-4dca-8e45-8e1826bc160f"
      },
      "execution_count": 9,
      "outputs": [
        {
          "output_type": "stream",
          "name": "stdout",
          "text": [
            "Lógica\n",
            "Algoritmos\n"
          ]
        }
      ]
    },
    {
      "cell_type": "markdown",
      "source": [
        "# Length"
      ],
      "metadata": {
        "id": "2mEPHSxA24EV"
      }
    },
    {
      "cell_type": "code",
      "source": [
        "      s1 = \"Lógica de programação e Algoritmos\"\n",
        "      tamanho = len(s1)\n",
        "      print(tamanho)\n"
      ],
      "metadata": {
        "colab": {
          "base_uri": "https://localhost:8080/"
        },
        "id": "ip3B0RPa26Yt",
        "outputId": "d51bd0e7-2672-4109-8874-fa074ca5f69c"
      },
      "execution_count": 8,
      "outputs": [
        {
          "output_type": "stream",
          "name": "stdout",
          "text": [
            "34\n"
          ]
        }
      ]
    },
    {
      "cell_type": "markdown",
      "source": [
        "#     Função de entrada e fluxo de execução do programa\n"
      ],
      "metadata": {
        "id": "506tPRaU3Ev2"
      }
    },
    {
      "cell_type": "code",
      "source": [
        " #Input (\"message\")\n",
        "\n",
        "idade = int(input(\"Qual sua idade?\"))\n",
        "print(f\"Sua idade é {idade}\")\n",
        "\n",
        "nome = input(\"Qual seu nome?\")\n",
        "print(f\"Olá {nome}, seja bem-vindo!\")\n"
      ],
      "metadata": {
        "colab": {
          "base_uri": "https://localhost:8080/"
        },
        "id": "RH2oyvK_3GzF",
        "outputId": "e11b6e8b-ac52-492b-e899-1fb0673a049b"
      },
      "execution_count": 13,
      "outputs": [
        {
          "output_type": "stream",
          "name": "stdout",
          "text": [
            "Qual sua idade?6\n",
            "Sua idade é 6\n",
            "Qual seu nome?u\n",
            "Olá u, seja bem-vindo!\n"
          ]
        }
      ]
    },
    {
      "cell_type": "markdown",
      "source": [
        "# Casting de dados"
      ],
      "metadata": {
        "id": "lVpCYQUp3bIW"
      }
    },
    {
      "cell_type": "code",
      "source": [
        "altura = float(input(\"Qual a sua altura?\"))\n",
        "print(altura)   # converte o valor string recebido para decimal. Se fosse para inteiro, seria int(input())\n"
      ],
      "metadata": {
        "colab": {
          "base_uri": "https://localhost:8080/"
        },
        "id": "QY84DTOp3eV9",
        "outputId": "9c6c2243-f622-4bf2-b264-f99150eef0ea"
      },
      "execution_count": 7,
      "outputs": [
        {
          "output_type": "stream",
          "name": "stdout",
          "text": [
            "Qual a sua altura?1.70\n",
            "1.7\n"
          ]
        }
      ]
    },
    {
      "cell_type": "markdown",
      "source": [
        "# Fluxo de execução do programa (teste de mesa)\n"
      ],
      "metadata": {
        "id": "c1Ipz33z38_u"
      }
    },
    {
      "cell_type": "code",
      "source": [
        "x = 1\n",
        "y = 1\n",
        "z = x + y #z= 1 + 1 = 2\n",
        "\n",
        "x = x + y #x= 1 + 1 = 2\n",
        "x = x - z #x= 2 - 2 = 0\n",
        "\n",
        "y = y - 1 #y= 1 - 1 = 0\n",
        "y = x + 1 #y= 0 + 1 = 1\n",
        "\n",
        "z = x + y #z= 0 + 1 = 1\n",
        "\n",
        "print(z)"
      ],
      "metadata": {
        "colab": {
          "base_uri": "https://localhost:8080/"
        },
        "id": "GpngDQsr4Cke",
        "outputId": "92db23fd-dc0d-4da9-ce38-d549320fe7ba"
      },
      "execution_count": 6,
      "outputs": [
        {
          "output_type": "stream",
          "name": "stdout",
          "text": [
            "1\n"
          ]
        }
      ]
    },
    {
      "cell_type": "code",
      "source": [
        "x = 5\n",
        "y = 7\n",
        "\n",
        "resp = x > y\n",
        "print(resp)"
      ],
      "metadata": {
        "colab": {
          "base_uri": "https://localhost:8080/"
        },
        "id": "UnfFA15X7udW",
        "outputId": "54370efe-fa18-4930-fe79-13bbe8af35b8"
      },
      "execution_count": 12,
      "outputs": [
        {
          "output_type": "stream",
          "name": "stdout",
          "text": [
            "False\n"
          ]
        }
      ]
    }
  ]
}